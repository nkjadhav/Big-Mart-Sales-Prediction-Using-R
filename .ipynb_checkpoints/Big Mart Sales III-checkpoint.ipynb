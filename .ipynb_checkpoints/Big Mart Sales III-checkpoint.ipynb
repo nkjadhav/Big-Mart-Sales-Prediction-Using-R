{
 "cells": [
  {
   "cell_type": "markdown",
   "metadata": {
    "toc": true
   },
   "source": [
    "<h1>Table of Contents<span class=\"tocSkip\"></span></h1>\n",
    "<div class=\"toc\"><ul class=\"toc-item\"><li><span><a href=\"#Load-Packages\" data-toc-modified-id=\"Load-Packages-1\"><span class=\"toc-item-num\">1&nbsp;&nbsp;</span>Load Packages</a></span></li><li><span><a href=\"#Read-Dataset\" data-toc-modified-id=\"Read-Dataset-2\"><span class=\"toc-item-num\">2&nbsp;&nbsp;</span>Read Dataset</a></span></li></ul></div>"
   ]
  },
  {
   "cell_type": "markdown",
   "metadata": {},
   "source": [
    "## Load Packages"
   ]
  },
  {
   "cell_type": "code",
   "execution_count": 4,
   "metadata": {},
   "outputs": [
    {
     "name": "stderr",
     "output_type": "stream",
     "text": [
      "\n",
      "Attaching package: 'cowplot'\n",
      "\n",
      "The following object is masked from 'package:ggplot2':\n",
      "\n",
      "    ggsave\n",
      "\n"
     ]
    }
   ],
   "source": [
    "## load packages\n",
    "library(data.table) # used for reading and manipulation of data\n",
    "library(dplyr)      # used for data manipulation and joining\n",
    "library(ggplot2)    # used for ploting \n",
    "library(caret)      # used for modeling\n",
    "library(corrplot)   # used for making correlation plot\n",
    "library(xgboost)    # used for building XGBoost model\n",
    "library(cowplot)    # used for combining multiple plots "
   ]
  },
  {
   "cell_type": "markdown",
   "metadata": {},
   "source": [
    "## Read Dataset"
   ]
  },
  {
   "cell_type": "code",
   "execution_count": 7,
   "metadata": {},
   "outputs": [],
   "source": [
    "## read datasets\n",
    "train = fread(\"Train_Data.csv\")\n",
    "test = fread(\"Test_Data.csv\")\n",
    "submission = fread(\"SampleSubmission.csv\")"
   ]
  },
  {
   "cell_type": "code",
   "execution_count": 8,
   "metadata": {},
   "outputs": [
    {
     "data": {
      "text/html": [
       "<ol class=list-inline>\n",
       "\t<li>'Item_Identifier'</li>\n",
       "\t<li>'Item_Weight'</li>\n",
       "\t<li>'Item_Fat_Content'</li>\n",
       "\t<li>'Item_Visibility'</li>\n",
       "\t<li>'Item_Type'</li>\n",
       "\t<li>'Item_MRP'</li>\n",
       "\t<li>'Outlet_Identifier'</li>\n",
       "\t<li>'Outlet_Establishment_Year'</li>\n",
       "\t<li>'Outlet_Size'</li>\n",
       "\t<li>'Outlet_Location_Type'</li>\n",
       "\t<li>'Outlet_Type'</li>\n",
       "\t<li>'Item_Outlet_Sales'</li>\n",
       "</ol>\n"
      ],
      "text/latex": [
       "\\begin{enumerate*}\n",
       "\\item 'Item\\_Identifier'\n",
       "\\item 'Item\\_Weight'\n",
       "\\item 'Item\\_Fat\\_Content'\n",
       "\\item 'Item\\_Visibility'\n",
       "\\item 'Item\\_Type'\n",
       "\\item 'Item\\_MRP'\n",
       "\\item 'Outlet\\_Identifier'\n",
       "\\item 'Outlet\\_Establishment\\_Year'\n",
       "\\item 'Outlet\\_Size'\n",
       "\\item 'Outlet\\_Location\\_Type'\n",
       "\\item 'Outlet\\_Type'\n",
       "\\item 'Item\\_Outlet\\_Sales'\n",
       "\\end{enumerate*}\n"
      ],
      "text/markdown": [
       "1. 'Item_Identifier'\n",
       "2. 'Item_Weight'\n",
       "3. 'Item_Fat_Content'\n",
       "4. 'Item_Visibility'\n",
       "5. 'Item_Type'\n",
       "6. 'Item_MRP'\n",
       "7. 'Outlet_Identifier'\n",
       "8. 'Outlet_Establishment_Year'\n",
       "9. 'Outlet_Size'\n",
       "10. 'Outlet_Location_Type'\n",
       "11. 'Outlet_Type'\n",
       "12. 'Item_Outlet_Sales'\n",
       "\n",
       "\n"
      ],
      "text/plain": [
       " [1] \"Item_Identifier\"           \"Item_Weight\"              \n",
       " [3] \"Item_Fat_Content\"          \"Item_Visibility\"          \n",
       " [5] \"Item_Type\"                 \"Item_MRP\"                 \n",
       " [7] \"Outlet_Identifier\"         \"Outlet_Establishment_Year\"\n",
       " [9] \"Outlet_Size\"               \"Outlet_Location_Type\"     \n",
       "[11] \"Outlet_Type\"               \"Item_Outlet_Sales\"        "
      ]
     },
     "metadata": {},
     "output_type": "display_data"
    },
    {
     "data": {
      "text/html": [
       "<ol class=list-inline>\n",
       "\t<li>'Item_Identifier'</li>\n",
       "\t<li>'Item_Weight'</li>\n",
       "\t<li>'Item_Fat_Content'</li>\n",
       "\t<li>'Item_Visibility'</li>\n",
       "\t<li>'Item_Type'</li>\n",
       "\t<li>'Item_MRP'</li>\n",
       "\t<li>'Outlet_Identifier'</li>\n",
       "\t<li>'Outlet_Establishment_Year'</li>\n",
       "\t<li>'Outlet_Size'</li>\n",
       "\t<li>'Outlet_Location_Type'</li>\n",
       "\t<li>'Outlet_Type'</li>\n",
       "</ol>\n"
      ],
      "text/latex": [
       "\\begin{enumerate*}\n",
       "\\item 'Item\\_Identifier'\n",
       "\\item 'Item\\_Weight'\n",
       "\\item 'Item\\_Fat\\_Content'\n",
       "\\item 'Item\\_Visibility'\n",
       "\\item 'Item\\_Type'\n",
       "\\item 'Item\\_MRP'\n",
       "\\item 'Outlet\\_Identifier'\n",
       "\\item 'Outlet\\_Establishment\\_Year'\n",
       "\\item 'Outlet\\_Size'\n",
       "\\item 'Outlet\\_Location\\_Type'\n",
       "\\item 'Outlet\\_Type'\n",
       "\\end{enumerate*}\n"
      ],
      "text/markdown": [
       "1. 'Item_Identifier'\n",
       "2. 'Item_Weight'\n",
       "3. 'Item_Fat_Content'\n",
       "4. 'Item_Visibility'\n",
       "5. 'Item_Type'\n",
       "6. 'Item_MRP'\n",
       "7. 'Outlet_Identifier'\n",
       "8. 'Outlet_Establishment_Year'\n",
       "9. 'Outlet_Size'\n",
       "10. 'Outlet_Location_Type'\n",
       "11. 'Outlet_Type'\n",
       "\n",
       "\n"
      ],
      "text/plain": [
       " [1] \"Item_Identifier\"           \"Item_Weight\"              \n",
       " [3] \"Item_Fat_Content\"          \"Item_Visibility\"          \n",
       " [5] \"Item_Type\"                 \"Item_MRP\"                 \n",
       " [7] \"Outlet_Identifier\"         \"Outlet_Establishment_Year\"\n",
       " [9] \"Outlet_Size\"               \"Outlet_Location_Type\"     \n",
       "[11] \"Outlet_Type\"              "
      ]
     },
     "metadata": {},
     "output_type": "display_data"
    },
    {
     "name": "stdout",
     "output_type": "stream",
     "text": [
      "Classes 'data.table' and 'data.frame':\t8523 obs. of  12 variables:\n",
      " $ Item_Identifier          : chr  \"FDA15\" \"DRC01\" \"FDN15\" \"FDX07\" ...\n",
      " $ Item_Weight              : num  9.3 5.92 17.5 19.2 8.93 ...\n",
      " $ Item_Fat_Content         : chr  \"Low Fat\" \"Regular\" \"Low Fat\" \"Regular\" ...\n",
      " $ Item_Visibility          : num  0.016 0.0193 0.0168 0 0 ...\n",
      " $ Item_Type                : chr  \"Dairy\" \"Soft Drinks\" \"Meat\" \"Fruits and Vegetables\" ...\n",
      " $ Item_MRP                 : num  249.8 48.3 141.6 182.1 53.9 ...\n",
      " $ Outlet_Identifier        : chr  \"OUT049\" \"OUT018\" \"OUT049\" \"OUT010\" ...\n",
      " $ Outlet_Establishment_Year: int  1999 2009 1999 1998 1987 2009 1987 1985 2002 2007 ...\n",
      " $ Outlet_Size              : chr  \"Medium\" \"Medium\" \"Medium\" \"\" ...\n",
      " $ Outlet_Location_Type     : chr  \"Tier 1\" \"Tier 3\" \"Tier 1\" \"Tier 3\" ...\n",
      " $ Outlet_Type              : chr  \"Supermarket Type1\" \"Supermarket Type2\" \"Supermarket Type1\" \"Grocery Store\" ...\n",
      " $ Item_Outlet_Sales        : num  3735 443 2097 732 995 ...\n",
      " - attr(*, \".internal.selfref\")=<externalptr> \n",
      "Classes 'data.table' and 'data.frame':\t5681 obs. of  11 variables:\n",
      " $ Item_Identifier          : chr  \"FDW58\" \"FDW14\" \"NCN55\" \"FDQ58\" ...\n",
      " $ Item_Weight              : num  20.75 8.3 14.6 7.32 NA ...\n",
      " $ Item_Fat_Content         : chr  \"Low Fat\" \"reg\" \"Low Fat\" \"Low Fat\" ...\n",
      " $ Item_Visibility          : num  0.00756 0.03843 0.09957 0.01539 0.1186 ...\n",
      " $ Item_Type                : chr  \"Snack Foods\" \"Dairy\" \"Others\" \"Snack Foods\" ...\n",
      " $ Item_MRP                 : num  107.9 87.3 241.8 155 234.2 ...\n",
      " $ Outlet_Identifier        : chr  \"OUT049\" \"OUT017\" \"OUT010\" \"OUT017\" ...\n",
      " $ Outlet_Establishment_Year: int  1999 2007 1998 2007 1985 1997 2009 1985 2002 2007 ...\n",
      " $ Outlet_Size              : chr  \"Medium\" \"\" \"\" \"\" ...\n",
      " $ Outlet_Location_Type     : chr  \"Tier 1\" \"Tier 2\" \"Tier 3\" \"Tier 2\" ...\n",
      " $ Outlet_Type              : chr  \"Supermarket Type1\" \"Supermarket Type1\" \"Grocery Store\" \"Supermarket Type1\" ...\n",
      " - attr(*, \".internal.selfref\")=<externalptr> \n"
     ]
    }
   ],
   "source": [
    "## train data column names\n",
    "names(train)\n",
    "\n",
    "## test data column names\n",
    "names(test)\n",
    "\n",
    "## structure of train data\n",
    "str(train)\n",
    "\n",
    "## structure of test data\n",
    "str(test)"
   ]
  },
  {
   "cell_type": "code",
   "execution_count": null,
   "metadata": {},
   "outputs": [],
   "source": []
  }
 ],
 "metadata": {
  "kernelspec": {
   "display_name": "R",
   "language": "R",
   "name": "ir"
  },
  "language_info": {
   "codemirror_mode": "r",
   "file_extension": ".r",
   "mimetype": "text/x-r-source",
   "name": "R",
   "pygments_lexer": "r",
   "version": "3.5.1"
  },
  "toc": {
   "base_numbering": 1,
   "nav_menu": {},
   "number_sections": true,
   "sideBar": true,
   "skip_h1_title": false,
   "title_cell": "Table of Contents",
   "title_sidebar": "Contents",
   "toc_cell": true,
   "toc_position": {},
   "toc_section_display": true,
   "toc_window_display": false
  },
  "varInspector": {
   "cols": {
    "lenName": 16,
    "lenType": 16,
    "lenVar": 40
   },
   "kernels_config": {
    "python": {
     "delete_cmd_postfix": "",
     "delete_cmd_prefix": "del ",
     "library": "var_list.py",
     "varRefreshCmd": "print(var_dic_list())"
    },
    "r": {
     "delete_cmd_postfix": ") ",
     "delete_cmd_prefix": "rm(",
     "library": "var_list.r",
     "varRefreshCmd": "cat(var_dic_list()) "
    }
   },
   "types_to_exclude": [
    "module",
    "function",
    "builtin_function_or_method",
    "instance",
    "_Feature"
   ],
   "window_display": false
  }
 },
 "nbformat": 4,
 "nbformat_minor": 2
}
